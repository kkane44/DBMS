{
 "cells": [
  {
   "cell_type": "code",
   "execution_count": 1,
   "id": "21e1e602",
   "metadata": {},
   "outputs": [],
   "source": [
    "import mysql.connector \n"
   ]
  },
  {
   "cell_type": "code",
   "execution_count": 2,
   "id": "8c8450d6",
   "metadata": {},
   "outputs": [
    {
     "name": "stdout",
     "output_type": "stream",
     "text": [
      "<mysql.connector.connection.MySQLConnection object at 0x7f9afda32520>\n"
     ]
    }
   ],
   "source": [
    "project=mysql.connector.connect(\n",
    "    host='localhost', \n",
    "    user='olasuaifan',\n",
    "    password='Ola@1234' \n",
    ")\n",
    "print(project)"
   ]
  },
  {
   "cell_type": "code",
   "execution_count": 3,
   "id": "15531384",
   "metadata": {},
   "outputs": [],
   "source": [
    "myproject=project.cursor()"
   ]
  },
  {
   "cell_type": "code",
   "execution_count": 4,
   "id": "441042b4",
   "metadata": {},
   "outputs": [],
   "source": [
    "# for atomicity\n",
    "project.autocommit=False \n",
    "# for isolation :Serilizable\n",
    "project.start_transaction(isolation_level=\"SERIALIZABLE\")"
   ]
  },
  {
   "cell_type": "code",
   "execution_count": 5,
   "id": "c70da4d9",
   "metadata": {},
   "outputs": [],
   "source": [
    "myproject.execute(\"CREATE DATABASE DBMS_project\"  )"
   ]
  },
  {
   "cell_type": "code",
   "execution_count": 5,
   "id": "1f08f481",
   "metadata": {},
   "outputs": [
    {
     "name": "stdout",
     "output_type": "stream",
     "text": [
      "('DBMS_proj',)\n",
      "('DBMS_project',)\n",
      "('information_schema',)\n",
      "('mydatabase',)\n",
      "('mysql',)\n",
      "('performance_schema',)\n",
      "('School',)\n",
      "('Student2',)\n",
      "('students',)\n",
      "('Students1',)\n",
      "('sys',)\n",
      "('X School',)\n"
     ]
    }
   ],
   "source": [
    "myproject.execute(\"SHOW DATABASES\")\n",
    "for database in myproject:\n",
    "    print(database)"
   ]
  },
  {
   "cell_type": "code",
   "execution_count": 6,
   "id": "33779b3d",
   "metadata": {},
   "outputs": [],
   "source": [
    "project=mysql.connector.connect(\n",
    "    host='localhost', \n",
    "    user='olasuaifan',\n",
    "    password='Ola@1234',\n",
    "    database='DBMS_project'\n",
    ")"
   ]
  },
  {
   "cell_type": "code",
   "execution_count": 16,
   "id": "34a79ccf",
   "metadata": {},
   "outputs": [],
   "source": [
    "myproject=project.cursor()\n",
    "myproject.execute(\"CREATE TABLE Product (pid VARCHAR(10) primary key, pname VARCHAR(10),price int)\")\n"
   ]
  },
  {
   "cell_type": "code",
   "execution_count": 17,
   "id": "5d59ca01",
   "metadata": {},
   "outputs": [],
   "source": [
    "myproject.execute(\"CREATE TABLE Depot (did VARCHAR(10)  primary key, addr VARCHAR(20),volume int)\")\n"
   ]
  },
  {
   "cell_type": "code",
   "execution_count": 18,
   "id": "f07a0907",
   "metadata": {},
   "outputs": [],
   "source": [
    "myproject.execute(\"CREATE TABLE Stock (pid VARCHAR(10) REFERENCES Products(pid), did VARCHAR(10) REFERENCES Depots(did), quantity int)\")\n"
   ]
  },
  {
   "cell_type": "code",
   "execution_count": 7,
   "id": "e7a85886",
   "metadata": {},
   "outputs": [
    {
     "name": "stdout",
     "output_type": "stream",
     "text": [
      "('Depot',)\n",
      "('Product',)\n",
      "('Stock',)\n"
     ]
    }
   ],
   "source": [
    "myproject=project.cursor()\n",
    "Tables = 'Show Tables'\n",
    "myproject.execute(Tables)\n",
    "Result=myproject.fetchall()\n",
    "for x in Result:\n",
    "    print (x)"
   ]
  },
  {
   "cell_type": "code",
   "execution_count": 19,
   "id": "a1e8b6f8",
   "metadata": {},
   "outputs": [
    {
     "name": "stdout",
     "output_type": "stream",
     "text": [
      "3 was inserted\n"
     ]
    }
   ],
   "source": [
    "myproject=project.cursor()\n",
    "sql1=\"INSERT INTO Product(pid, pname, price)VALUES (%s,%s,%s)\"\n",
    "val1=[\n",
    "    ('p1','tape',2.5),\n",
    "    ('p2','tv',250),\n",
    "    ('p3','vcr',80)\n",
    "]\n",
    "myproject.executemany(sql1,val1)\n",
    "project.commit()\n",
    "print(myproject.rowcount,\"was inserted\")"
   ]
  },
  {
   "cell_type": "code",
   "execution_count": 10,
   "id": "a7f3a452",
   "metadata": {},
   "outputs": [
    {
     "name": "stdout",
     "output_type": "stream",
     "text": [
      "('p1', 'tape', 3)\n",
      "('p2', 'tv', 250)\n",
      "('p3', 'vcr', 80)\n"
     ]
    }
   ],
   "source": [
    "Product_table='select * from Product '\n",
    "myproject.execute(Product_table)\n",
    "Result=myproject.fetchall()\n",
    "for x in Result:\n",
    "    print (x)"
   ]
  },
  {
   "cell_type": "code",
   "execution_count": 22,
   "id": "f406eebd",
   "metadata": {},
   "outputs": [
    {
     "name": "stdout",
     "output_type": "stream",
     "text": [
      "3 was inserted \n"
     ]
    }
   ],
   "source": [
    "myproject=project.cursor()\n",
    "sql2=\"INSERT INTO Depot(did,addr,volume) VALUES (%s,%s,%s)\"\n",
    "val2=[\n",
    "    ('d1',\"New York\", 9000),\n",
    "    ('d2','Syracuse',6000),\n",
    "    ('d4',\"New York\",2000)\n",
    "    \n",
    "]\n",
    "myproject.executemany(sql2,val2)\n",
    "project.commit()\n",
    "print(myproject.rowcount,'was inserted ')"
   ]
  },
  {
   "cell_type": "code",
   "execution_count": 9,
   "id": "61efedd5",
   "metadata": {},
   "outputs": [
    {
     "name": "stdout",
     "output_type": "stream",
     "text": [
      "('d1', 'New York', 9000)\n",
      "('d2', 'Syracuse', 6000)\n",
      "('d4', 'New York', 2000)\n"
     ]
    }
   ],
   "source": [
    "Depot_table='select * from Depot '\n",
    "myproject.execute(Depot_table)\n",
    "Result=myproject.fetchall()\n",
    "for x in Result:\n",
    "    print (x)"
   ]
  },
  {
   "cell_type": "code",
   "execution_count": 24,
   "id": "6e78ffdf",
   "metadata": {},
   "outputs": [
    {
     "name": "stdout",
     "output_type": "stream",
     "text": [
      "8 was inserted \n"
     ]
    }
   ],
   "source": [
    "myproject=project.cursor()\n",
    "sql3=\"INSERT INTO Stock(pid, did, quantity) VALUES (%s,%s,%s)\"\n",
    "val3=[\n",
    "    ('p1','d1',1000),\n",
    "    ('p2','d2',-100),\n",
    "    ('p1','d4',1200),\n",
    "    ('p3','d1',3000),\n",
    "    ('p3','d4',2000),\n",
    "    ('p2','d4',1500),\n",
    "    ('p2','d1',-400),\n",
    "    ('p2','d2',2000)\n",
    "\n",
    "    \n",
    "]\n",
    "myproject.executemany(sql3,val3)\n",
    "project.commit()\n",
    "print(myproject.rowcount,'was inserted ')"
   ]
  },
  {
   "cell_type": "code",
   "execution_count": 10,
   "id": "a3f7ef2f",
   "metadata": {},
   "outputs": [
    {
     "name": "stdout",
     "output_type": "stream",
     "text": [
      "('p1', 'd1', 1000)\n",
      "('p2', 'd2', -100)\n",
      "('p1', 'd4', 1200)\n",
      "('p3', 'd1', 3000)\n",
      "('p3', 'd4', 2000)\n",
      "('p2', 'd4', 1500)\n",
      "('p2', 'd1', -400)\n",
      "('p2', 'd2', 2000)\n"
     ]
    }
   ],
   "source": [
    "Stock_table='select * from Stock '\n",
    "myproject.execute(Stock_table)\n",
    "Result=myproject.fetchall()\n",
    "for x in Result:\n",
    "    print (x)"
   ]
  },
  {
   "cell_type": "code",
   "execution_count": 11,
   "id": "079cdfc5",
   "metadata": {},
   "outputs": [],
   "source": [
    "# Q4\n",
    "myproject.execute(\" Update Depot SET did= 'dd1' where did='d1'\")\n",
    "myproject.execute(\" Update Stock SET did= 'dd1' where did='d1'\")\n",
    "project.commit()\n"
   ]
  },
  {
   "cell_type": "code",
   "execution_count": 12,
   "id": "2b2e99f1",
   "metadata": {},
   "outputs": [
    {
     "name": "stdout",
     "output_type": "stream",
     "text": [
      "('d2', 'Syracuse', 6000)\n",
      "('d4', 'New York', 2000)\n",
      "('dd1', 'New York', 9000)\n"
     ]
    }
   ],
   "source": [
    "# Q4.1 update in depot table \n",
    "Q4_answer1='select * from Depot '\n",
    "myproject.execute(Q4_answer1)\n",
    "Result=myproject.fetchall()\n",
    "for x in Result:\n",
    "    print (x)"
   ]
  },
  {
   "cell_type": "code",
   "execution_count": 13,
   "id": "25e8e74f",
   "metadata": {},
   "outputs": [
    {
     "name": "stdout",
     "output_type": "stream",
     "text": [
      "('p1', 'dd1', 1000)\n",
      "('p2', 'd2', -100)\n",
      "('p1', 'd4', 1200)\n",
      "('p3', 'dd1', 3000)\n",
      "('p3', 'd4', 2000)\n",
      "('p2', 'd4', 1500)\n",
      "('p2', 'dd1', -400)\n",
      "('p2', 'd2', 2000)\n"
     ]
    }
   ],
   "source": [
    "# Q4.2 update in Stock table \n",
    "Q4_answer2='select * from Stock '\n",
    "myproject.execute(Q4_answer2)\n",
    "Result=myproject.fetchall()\n",
    "for x in Result:\n",
    "    print (x)"
   ]
  },
  {
   "cell_type": "code",
   "execution_count": 14,
   "id": "136064de",
   "metadata": {},
   "outputs": [],
   "source": [
    "#Q6.1 update in Depot table \n",
    "myproject=project.cursor()\n",
    "sql4=\"INSERT INTO Depot(did,addr,volume) VALUES (%s,%s,%s)\"\n",
    "val4=('d100', 'Chicago', 100)\n",
    "myproject.execute(sql4,val4)\n",
    "project.commit()\n"
   ]
  },
  {
   "cell_type": "code",
   "execution_count": 15,
   "id": "001274de",
   "metadata": {},
   "outputs": [
    {
     "name": "stdout",
     "output_type": "stream",
     "text": [
      "('d100', 'Chicago', 100)\n",
      "('d2', 'Syracuse', 6000)\n",
      "('d4', 'New York', 2000)\n",
      "('dd1', 'New York', 9000)\n"
     ]
    }
   ],
   "source": [
    "# Q6.1 answer disply\n",
    "Q6_answer1='select * from Depot '\n",
    "myproject.execute(Q6_answer1)\n",
    "Result=myproject.fetchall()\n",
    "for x in Result:\n",
    "    print (x)"
   ]
  },
  {
   "cell_type": "code",
   "execution_count": 16,
   "id": "6a6bf872",
   "metadata": {},
   "outputs": [],
   "source": [
    "#Q6.2 update in Stock table \n",
    "myproject=project.cursor()\n",
    "sql5=\"INSERT INTO Stock(pid, did, quantity) VALUES (%s,%s,%s)\"\n",
    "val5=('p1','d100',100)\n",
    "myproject.execute(sql5,val5)\n",
    "project.commit()\n"
   ]
  },
  {
   "cell_type": "code",
   "execution_count": 17,
   "id": "040f9a80",
   "metadata": {},
   "outputs": [
    {
     "name": "stdout",
     "output_type": "stream",
     "text": [
      "('p1', 'dd1', 1000)\n",
      "('p2', 'd2', -100)\n",
      "('p1', 'd4', 1200)\n",
      "('p3', 'dd1', 3000)\n",
      "('p3', 'd4', 2000)\n",
      "('p2', 'd4', 1500)\n",
      "('p2', 'dd1', -400)\n",
      "('p2', 'd2', 2000)\n",
      "('p1', 'd100', 100)\n"
     ]
    }
   ],
   "source": [
    "# Q6.2 answer disply\n",
    "Q6_answer2='select * from Stock '\n",
    "myproject.execute(Q6_answer2)\n",
    "Result=myproject.fetchall()\n",
    "for x in Result:\n",
    "    print (x)"
   ]
  },
  {
   "cell_type": "code",
   "execution_count": 40,
   "id": "f43a3e6a",
   "metadata": {},
   "outputs": [],
   "source": [
    "# we realised that the data type of the price attribute in Product table needed to be updated from Int to float\n",
    "myproject.execute(\"Alter Table Product Modify column price float(10, 2)\")\n",
    "myproject.execute(\"ALTER TABLE Product ADD CHECK (price >= 0)\")\n",
    "myproject.execute(\" Update Product SET price= 2.50 where pid='p1'\")\n",
    "\n",
    "project.commit()\n"
   ]
  },
  {
   "cell_type": "code",
   "execution_count": 41,
   "id": "ba769dc4",
   "metadata": {},
   "outputs": [
    {
     "name": "stdout",
     "output_type": "stream",
     "text": [
      "('p1', 'tape', 2.5)\n",
      "('p2', 'tv', 250.0)\n",
      "('p3', 'vcr', 80.0)\n"
     ]
    }
   ],
   "source": [
    "after_correction = 'select * from Product'\n",
    "myproject.execute(after_correction)\n",
    "Result=myproject.fetchall()\n",
    "for x in Result:\n",
    "    print (x)"
   ]
  },
  {
   "cell_type": "code",
   "execution_count": 42,
   "id": "11a1dcb8",
   "metadata": {},
   "outputs": [
    {
     "name": "stdout",
     "output_type": "stream",
     "text": [
      "MYSQL connection is now closed\n"
     ]
    }
   ],
   "source": [
    "try:\n",
    "    myproject = project.cursor()\n",
    "    # QUERY\n",
    "\n",
    "except (Exception, MYSQL.DatabaseError) as err:\n",
    "    print(err)\n",
    "    print(\"Transactions could not be completed so database will be rolled back before start of transactions\")\n",
    "    project.rollback()\n",
    "finally:\n",
    "    if project:\n",
    "        project.commit()\n",
    "        myproject.close\n",
    "        project.close\n",
    "        print(\"MYSQL connection is now closed\")"
   ]
  },
  {
   "cell_type": "code",
   "execution_count": null,
   "id": "737915ab",
   "metadata": {},
   "outputs": [],
   "source": []
  }
 ],
 "metadata": {
  "kernelspec": {
   "display_name": "Python 3 (ipykernel)",
   "language": "python",
   "name": "python3"
  },
  "language_info": {
   "codemirror_mode": {
    "name": "ipython",
    "version": 3
   },
   "file_extension": ".py",
   "mimetype": "text/x-python",
   "name": "python",
   "nbconvert_exporter": "python",
   "pygments_lexer": "ipython3",
   "version": "3.9.13"
  }
 },
 "nbformat": 4,
 "nbformat_minor": 5
}
