{
 "cells": [
  {
   "cell_type": "code",
   "execution_count": 49,
   "id": "21e1e602",
   "metadata": {},
   "outputs": [],
   "source": [
    "import mysql.connector \n"
   ]
  },
  {
   "cell_type": "code",
   "execution_count": 50,
   "id": "8c8450d6",
   "metadata": {},
   "outputs": [
    {
     "name": "stdout",
     "output_type": "stream",
     "text": [
      "<mysql.connector.connection.MySQLConnection object at 0x7fa70935c400>\n"
     ]
    }
   ],
   "source": [
    "project=mysql.connector.connect(\n",
    "    host='localhost', \n",
    "    user='olasuaifan',\n",
    "    password='Ola@1234' \n",
    ")\n",
    "print(project)"
   ]
  },
  {
   "cell_type": "code",
   "execution_count": 51,
   "id": "15531384",
   "metadata": {},
   "outputs": [],
   "source": [
    "myproject=project.cursor()"
   ]
  },
  {
   "cell_type": "code",
   "execution_count": 52,
   "id": "441042b4",
   "metadata": {},
   "outputs": [],
   "source": [
    "# for atomicity\n",
    "project.autocommit=False \n",
    "# for isolation :Serilizable\n",
    "project.start_transaction(isolation_level=\"SERIALIZABLE\")"
   ]
  },
  {
   "cell_type": "code",
   "execution_count": 26,
   "id": "c70da4d9",
   "metadata": {},
   "outputs": [],
   "source": [
    "myproject.execute(\"CREATE DATABASE DBMS_project2\"  )"
   ]
  },
  {
   "cell_type": "code",
   "execution_count": 53,
   "id": "1f08f481",
   "metadata": {},
   "outputs": [
    {
     "name": "stdout",
     "output_type": "stream",
     "text": [
      "('DBMS_proj',)\n",
      "('DBMS_project',)\n",
      "('DBMS_project1',)\n",
      "('DBMS_project2',)\n",
      "('information_schema',)\n",
      "('mydatabase',)\n",
      "('mysql',)\n",
      "('performance_schema',)\n",
      "('School',)\n",
      "('Student2',)\n",
      "('students',)\n",
      "('Students1',)\n",
      "('sys',)\n",
      "('X School',)\n"
     ]
    }
   ],
   "source": [
    "myproject.execute(\"SHOW DATABASES\")\n",
    "for database in myproject:\n",
    "    print(database)"
   ]
  },
  {
   "cell_type": "code",
   "execution_count": 54,
   "id": "33779b3d",
   "metadata": {},
   "outputs": [],
   "source": [
    "project=mysql.connector.connect(\n",
    "    host='localhost', \n",
    "    user='olasuaifan',\n",
    "    password='Ola@1234',\n",
    "    database='DBMS_project2'\n",
    ")"
   ]
  },
  {
   "cell_type": "code",
   "execution_count": 29,
   "id": "34a79ccf",
   "metadata": {},
   "outputs": [],
   "source": [
    "myproject=project.cursor()\n",
    "myproject.execute(\"CREATE TABLE Product (pid VARCHAR(10) , pname VARCHAR(10),price float(10,2))\")\n"
   ]
  },
  {
   "cell_type": "code",
   "execution_count": 30,
   "id": "5d59ca01",
   "metadata": {},
   "outputs": [],
   "source": [
    "myproject.execute(\"CREATE TABLE Depot (did VARCHAR(10)  , addr VARCHAR(20),volume int)\")\n"
   ]
  },
  {
   "cell_type": "code",
   "execution_count": 31,
   "id": "f07a0907",
   "metadata": {},
   "outputs": [],
   "source": [
    "myproject.execute(\"CREATE TABLE Stock (pid VARCHAR(10) , did VARCHAR(10) , quantity int)\")\n"
   ]
  },
  {
   "cell_type": "code",
   "execution_count": 32,
   "id": "66739770",
   "metadata": {},
   "outputs": [],
   "source": [
    "myproject.execute(\"ALTER TABLE Product ADD CONSTRAINT pk_Product PRIMARY KEY (pid)\")\n",
    "myproject.execute(\"ALTER TABLE Depot ADD CONSTRAINT pk_Depot PRIMARY KEY (did)\")\n",
    "\n",
    "myproject.execute(\"ALTER TABLE Stock ADD CONSTRAINT fk_Product FOREIGN KEY (pid) REFERENCES Product (pid) ON DELETE CASCADE ON UPDATE CASCADE\")\n",
    "myproject.execute(\"ALTER TABLE Stock ADD CONSTRAINT fk_Depot FOREIGN KEY (did) REFERENCES Depot (did) ON DELETE CASCADE ON UPDATE CASCADE\")"
   ]
  },
  {
   "cell_type": "code",
   "execution_count": 55,
   "id": "e7a85886",
   "metadata": {},
   "outputs": [
    {
     "name": "stdout",
     "output_type": "stream",
     "text": [
      "('Depot',)\n",
      "('Product',)\n",
      "('Stock',)\n"
     ]
    }
   ],
   "source": [
    "myproject=project.cursor()\n",
    "Tables = 'Show Tables'\n",
    "myproject.execute(Tables)\n",
    "Result=myproject.fetchall()\n",
    "for x in Result:\n",
    "    print (x)"
   ]
  },
  {
   "cell_type": "code",
   "execution_count": 34,
   "id": "a1e8b6f8",
   "metadata": {},
   "outputs": [
    {
     "name": "stdout",
     "output_type": "stream",
     "text": [
      "3 was inserted\n"
     ]
    }
   ],
   "source": [
    "myproject=project.cursor()\n",
    "sql1=\"INSERT INTO Product(pid, pname, price)VALUES (%s,%s,%s)\"\n",
    "val1=[\n",
    "    ('p1','tape',2.5),\n",
    "    ('p2','tv',250),\n",
    "    ('p3','vcr',80)\n",
    "]\n",
    "myproject.executemany(sql1,val1)\n",
    "project.commit()\n",
    "print(myproject.rowcount,\"was inserted\")"
   ]
  },
  {
   "cell_type": "code",
   "execution_count": 35,
   "id": "a7f3a452",
   "metadata": {},
   "outputs": [
    {
     "name": "stdout",
     "output_type": "stream",
     "text": [
      "('p1', 'tape', 2.5)\n",
      "('p2', 'tv', 250.0)\n",
      "('p3', 'vcr', 80.0)\n"
     ]
    }
   ],
   "source": [
    "Product_table='select * from Product '\n",
    "myproject.execute(Product_table)\n",
    "Result=myproject.fetchall()\n",
    "for x in Result:\n",
    "    print (x)"
   ]
  },
  {
   "cell_type": "code",
   "execution_count": 36,
   "id": "f406eebd",
   "metadata": {},
   "outputs": [
    {
     "name": "stdout",
     "output_type": "stream",
     "text": [
      "3 was inserted \n"
     ]
    }
   ],
   "source": [
    "myproject=project.cursor()\n",
    "sql2=\"INSERT INTO Depot(did,addr,volume) VALUES (%s,%s,%s)\"\n",
    "val2=[\n",
    "    ('d1',\"New York\", 9000),\n",
    "    ('d2','Syracuse',6000),\n",
    "    ('d4',\"New York\",2000)\n",
    "    \n",
    "]\n",
    "myproject.executemany(sql2,val2)\n",
    "project.commit()\n",
    "print(myproject.rowcount,'was inserted ')"
   ]
  },
  {
   "cell_type": "code",
   "execution_count": 37,
   "id": "61efedd5",
   "metadata": {},
   "outputs": [
    {
     "name": "stdout",
     "output_type": "stream",
     "text": [
      "('d1', 'New York', 9000)\n",
      "('d2', 'Syracuse', 6000)\n",
      "('d4', 'New York', 2000)\n"
     ]
    }
   ],
   "source": [
    "Depot_table='select * from Depot '\n",
    "myproject.execute(Depot_table)\n",
    "Result=myproject.fetchall()\n",
    "for x in Result:\n",
    "    print (x)"
   ]
  },
  {
   "cell_type": "code",
   "execution_count": 38,
   "id": "6e78ffdf",
   "metadata": {},
   "outputs": [
    {
     "name": "stdout",
     "output_type": "stream",
     "text": [
      "8 was inserted \n"
     ]
    }
   ],
   "source": [
    "myproject=project.cursor()\n",
    "sql3=\"INSERT INTO Stock(pid, did, quantity) VALUES (%s,%s,%s)\"\n",
    "val3=[\n",
    "    ('p1','d1',1000),\n",
    "    ('p2','d2',-100),\n",
    "    ('p1','d4',1200),\n",
    "    ('p3','d1',3000),\n",
    "    ('p3','d4',2000),\n",
    "    ('p2','d4',1500),\n",
    "    ('p2','d1',-400),\n",
    "    ('p2','d2',2000)\n",
    "\n",
    "    \n",
    "]\n",
    "myproject.executemany(sql3,val3)\n",
    "project.commit()\n",
    "print(myproject.rowcount,'was inserted ')"
   ]
  },
  {
   "cell_type": "code",
   "execution_count": 39,
   "id": "a3f7ef2f",
   "metadata": {},
   "outputs": [
    {
     "name": "stdout",
     "output_type": "stream",
     "text": [
      "('p1', 'd1', 1000)\n",
      "('p2', 'd2', -100)\n",
      "('p1', 'd4', 1200)\n",
      "('p3', 'd1', 3000)\n",
      "('p3', 'd4', 2000)\n",
      "('p2', 'd4', 1500)\n",
      "('p2', 'd1', -400)\n",
      "('p2', 'd2', 2000)\n"
     ]
    }
   ],
   "source": [
    "Stock_table='select * from Stock '\n",
    "myproject.execute(Stock_table)\n",
    "Result=myproject.fetchall()\n",
    "for x in Result:\n",
    "    print (x)"
   ]
  },
  {
   "cell_type": "code",
   "execution_count": 41,
   "id": "079cdfc5",
   "metadata": {},
   "outputs": [],
   "source": [
    "# Q4\n",
    "myproject.execute(\" Update Depot SET did= 'dd1' where did='d1'\")\n",
    "project.commit()\n"
   ]
  },
  {
   "cell_type": "code",
   "execution_count": 42,
   "id": "2b2e99f1",
   "metadata": {},
   "outputs": [
    {
     "name": "stdout",
     "output_type": "stream",
     "text": [
      "('d2', 'Syracuse', 6000)\n",
      "('d4', 'New York', 2000)\n",
      "('dd1', 'New York', 9000)\n"
     ]
    }
   ],
   "source": [
    "# Q4.1 update in depot table \n",
    "Q4_answer1='select * from Depot '\n",
    "myproject.execute(Q4_answer1)\n",
    "Result=myproject.fetchall()\n",
    "for x in Result:\n",
    "    print (x)"
   ]
  },
  {
   "cell_type": "code",
   "execution_count": 43,
   "id": "25e8e74f",
   "metadata": {},
   "outputs": [
    {
     "name": "stdout",
     "output_type": "stream",
     "text": [
      "('p1', 'dd1', 1000)\n",
      "('p2', 'd2', -100)\n",
      "('p1', 'd4', 1200)\n",
      "('p3', 'dd1', 3000)\n",
      "('p3', 'd4', 2000)\n",
      "('p2', 'd4', 1500)\n",
      "('p2', 'dd1', -400)\n",
      "('p2', 'd2', 2000)\n"
     ]
    }
   ],
   "source": [
    "# Q4.2 update in Stock table \n",
    "Q4_answer2='select * from Stock '\n",
    "myproject.execute(Q4_answer2)\n",
    "Result=myproject.fetchall()\n",
    "for x in Result:\n",
    "    print (x)"
   ]
  },
  {
   "cell_type": "code",
   "execution_count": 14,
   "id": "136064de",
   "metadata": {},
   "outputs": [],
   "source": [
    "#Q6.1 update in Depot table \n",
    "myproject=project.cursor()\n",
    "sql4=\"INSERT INTO Depot(did,addr,volume) VALUES (%s,%s,%s)\"\n",
    "val4=('d100', 'Chicago', 100)\n",
    "myproject.execute(sql4,val4)\n",
    "project.commit()\n"
   ]
  },
  {
   "cell_type": "code",
   "execution_count": 15,
   "id": "001274de",
   "metadata": {},
   "outputs": [
    {
     "name": "stdout",
     "output_type": "stream",
     "text": [
      "('d100', 'Chicago', 100)\n",
      "('d2', 'Syracuse', 6000)\n",
      "('d4', 'New York', 2000)\n",
      "('dd1', 'New York', 9000)\n"
     ]
    }
   ],
   "source": [
    "# Q6.1 answer disply\n",
    "Q6_answer1='select * from Depot '\n",
    "myproject.execute(Q6_answer1)\n",
    "Result=myproject.fetchall()\n",
    "for x in Result:\n",
    "    print (x)"
   ]
  },
  {
   "cell_type": "code",
   "execution_count": 56,
   "id": "6a6bf872",
   "metadata": {},
   "outputs": [
    {
     "ename": "DatabaseError",
     "evalue": "1205 (HY000): Lock wait timeout exceeded; try restarting transaction",
     "output_type": "error",
     "traceback": [
      "\u001b[0;31m---------------------------------------------------------------------------\u001b[0m",
      "\u001b[0;31mDatabaseError\u001b[0m                             Traceback (most recent call last)",
      "\u001b[0;32m/var/folders/vw/wnpxkfbd0td_tthn1f9l3bj00000gp/T/ipykernel_98217/947621723.py\u001b[0m in \u001b[0;36m<module>\u001b[0;34m\u001b[0m\n\u001b[1;32m      3\u001b[0m \u001b[0msql5\u001b[0m\u001b[0;34m=\u001b[0m\u001b[0;34m\"INSERT INTO Stock(pid, did, quantity) VALUES (%s,%s,%s)\"\u001b[0m\u001b[0;34m\u001b[0m\u001b[0;34m\u001b[0m\u001b[0m\n\u001b[1;32m      4\u001b[0m \u001b[0mval5\u001b[0m\u001b[0;34m=\u001b[0m\u001b[0;34m(\u001b[0m\u001b[0;34m'p1'\u001b[0m\u001b[0;34m,\u001b[0m\u001b[0;34m'd100'\u001b[0m\u001b[0;34m,\u001b[0m\u001b[0;36m100\u001b[0m\u001b[0;34m)\u001b[0m\u001b[0;34m\u001b[0m\u001b[0;34m\u001b[0m\u001b[0m\n\u001b[0;32m----> 5\u001b[0;31m \u001b[0mmyproject\u001b[0m\u001b[0;34m.\u001b[0m\u001b[0mexecute\u001b[0m\u001b[0;34m(\u001b[0m\u001b[0msql5\u001b[0m\u001b[0;34m,\u001b[0m\u001b[0mval5\u001b[0m\u001b[0;34m)\u001b[0m\u001b[0;34m\u001b[0m\u001b[0;34m\u001b[0m\u001b[0m\n\u001b[0m\u001b[1;32m      6\u001b[0m \u001b[0mproject\u001b[0m\u001b[0;34m.\u001b[0m\u001b[0mcommit\u001b[0m\u001b[0;34m(\u001b[0m\u001b[0;34m)\u001b[0m\u001b[0;34m\u001b[0m\u001b[0;34m\u001b[0m\u001b[0m\n",
      "\u001b[0;32m~/opt/anaconda3/lib/python3.9/site-packages/mysql/connector/cursor.py\u001b[0m in \u001b[0;36mexecute\u001b[0;34m(self, operation, params, multi)\u001b[0m\n\u001b[1;32m    613\u001b[0m \u001b[0;34m\u001b[0m\u001b[0m\n\u001b[1;32m    614\u001b[0m         \u001b[0;32mtry\u001b[0m\u001b[0;34m:\u001b[0m\u001b[0;34m\u001b[0m\u001b[0;34m\u001b[0m\u001b[0m\n\u001b[0;32m--> 615\u001b[0;31m             \u001b[0mself\u001b[0m\u001b[0;34m.\u001b[0m\u001b[0m_handle_result\u001b[0m\u001b[0;34m(\u001b[0m\u001b[0mself\u001b[0m\u001b[0;34m.\u001b[0m\u001b[0m_connection\u001b[0m\u001b[0;34m.\u001b[0m\u001b[0mcmd_query\u001b[0m\u001b[0;34m(\u001b[0m\u001b[0mstmt\u001b[0m\u001b[0;34m)\u001b[0m\u001b[0;34m)\u001b[0m\u001b[0;34m\u001b[0m\u001b[0;34m\u001b[0m\u001b[0m\n\u001b[0m\u001b[1;32m    616\u001b[0m         \u001b[0;32mexcept\u001b[0m \u001b[0mInterfaceError\u001b[0m \u001b[0;32mas\u001b[0m \u001b[0merr\u001b[0m\u001b[0;34m:\u001b[0m\u001b[0;34m\u001b[0m\u001b[0;34m\u001b[0m\u001b[0m\n\u001b[1;32m    617\u001b[0m             \u001b[0;32mif\u001b[0m \u001b[0mself\u001b[0m\u001b[0;34m.\u001b[0m\u001b[0m_connection\u001b[0m\u001b[0;34m.\u001b[0m\u001b[0mhave_next_result\u001b[0m\u001b[0;34m:\u001b[0m\u001b[0;34m\u001b[0m\u001b[0;34m\u001b[0m\u001b[0m\n",
      "\u001b[0;32m~/opt/anaconda3/lib/python3.9/site-packages/mysql/connector/connection.py\u001b[0m in \u001b[0;36mcmd_query\u001b[0;34m(self, query, raw, buffered, raw_as_string)\u001b[0m\n\u001b[1;32m   1044\u001b[0m         \u001b[0mquery\u001b[0m \u001b[0;34m=\u001b[0m \u001b[0mbytes\u001b[0m\u001b[0;34m(\u001b[0m\u001b[0mpacket\u001b[0m\u001b[0;34m)\u001b[0m\u001b[0;34m\u001b[0m\u001b[0;34m\u001b[0m\u001b[0m\n\u001b[1;32m   1045\u001b[0m         \u001b[0;32mtry\u001b[0m\u001b[0;34m:\u001b[0m\u001b[0;34m\u001b[0m\u001b[0;34m\u001b[0m\u001b[0m\n\u001b[0;32m-> 1046\u001b[0;31m             \u001b[0mresult\u001b[0m \u001b[0;34m=\u001b[0m \u001b[0mself\u001b[0m\u001b[0;34m.\u001b[0m\u001b[0m_handle_result\u001b[0m\u001b[0;34m(\u001b[0m\u001b[0mself\u001b[0m\u001b[0;34m.\u001b[0m\u001b[0m_send_cmd\u001b[0m\u001b[0;34m(\u001b[0m\u001b[0mServerCmd\u001b[0m\u001b[0;34m.\u001b[0m\u001b[0mQUERY\u001b[0m\u001b[0;34m,\u001b[0m \u001b[0mquery\u001b[0m\u001b[0;34m)\u001b[0m\u001b[0;34m)\u001b[0m\u001b[0;34m\u001b[0m\u001b[0;34m\u001b[0m\u001b[0m\n\u001b[0m\u001b[1;32m   1047\u001b[0m         \u001b[0;32mexcept\u001b[0m \u001b[0mProgrammingError\u001b[0m \u001b[0;32mas\u001b[0m \u001b[0merr\u001b[0m\u001b[0;34m:\u001b[0m\u001b[0;34m\u001b[0m\u001b[0;34m\u001b[0m\u001b[0m\n\u001b[1;32m   1048\u001b[0m             \u001b[0;32mif\u001b[0m \u001b[0merr\u001b[0m\u001b[0;34m.\u001b[0m\u001b[0merrno\u001b[0m \u001b[0;34m==\u001b[0m \u001b[0;36m3948\u001b[0m \u001b[0;32mand\u001b[0m \u001b[0;34m\"Loading local data is disabled\"\u001b[0m \u001b[0;32min\u001b[0m \u001b[0merr\u001b[0m\u001b[0;34m.\u001b[0m\u001b[0mmsg\u001b[0m\u001b[0;34m:\u001b[0m\u001b[0;34m\u001b[0m\u001b[0;34m\u001b[0m\u001b[0m\n",
      "\u001b[0;32m~/opt/anaconda3/lib/python3.9/site-packages/mysql/connector/connection.py\u001b[0m in \u001b[0;36m_handle_result\u001b[0;34m(self, packet)\u001b[0m\n\u001b[1;32m    822\u001b[0m             \u001b[0;32mreturn\u001b[0m \u001b[0mself\u001b[0m\u001b[0;34m.\u001b[0m\u001b[0m_handle_eof\u001b[0m\u001b[0;34m(\u001b[0m\u001b[0mpacket\u001b[0m\u001b[0;34m)\u001b[0m\u001b[0;34m\u001b[0m\u001b[0;34m\u001b[0m\u001b[0m\n\u001b[1;32m    823\u001b[0m         \u001b[0;32mif\u001b[0m \u001b[0mpacket\u001b[0m\u001b[0;34m[\u001b[0m\u001b[0;36m4\u001b[0m\u001b[0;34m]\u001b[0m \u001b[0;34m==\u001b[0m \u001b[0;36m255\u001b[0m\u001b[0;34m:\u001b[0m\u001b[0;34m\u001b[0m\u001b[0;34m\u001b[0m\u001b[0m\n\u001b[0;32m--> 824\u001b[0;31m             \u001b[0;32mraise\u001b[0m \u001b[0mget_exception\u001b[0m\u001b[0;34m(\u001b[0m\u001b[0mpacket\u001b[0m\u001b[0;34m)\u001b[0m\u001b[0;34m\u001b[0m\u001b[0;34m\u001b[0m\u001b[0m\n\u001b[0m\u001b[1;32m    825\u001b[0m \u001b[0;34m\u001b[0m\u001b[0m\n\u001b[1;32m    826\u001b[0m         \u001b[0;31m# We have a text result set\u001b[0m\u001b[0;34m\u001b[0m\u001b[0;34m\u001b[0m\u001b[0m\n",
      "\u001b[0;31mDatabaseError\u001b[0m: 1205 (HY000): Lock wait timeout exceeded; try restarting transaction"
     ]
    }
   ],
   "source": [
    "#Q6.2 update in Stock table \n",
    "myproject=project.cursor()\n",
    "sql5=\"INSERT INTO Stock(pid, did, quantity) VALUES (%s,%s,%s)\"\n",
    "val5=('p1','d100',100)\n",
    "myproject.execute(sql5,val5)\n",
    "project.commit()\n"
   ]
  },
  {
   "cell_type": "code",
   "execution_count": 48,
   "id": "040f9a80",
   "metadata": {},
   "outputs": [
    {
     "ename": "InternalError",
     "evalue": "Unread result found",
     "output_type": "error",
     "traceback": [
      "\u001b[0;31m---------------------------------------------------------------------------\u001b[0m",
      "\u001b[0;31mInternalError\u001b[0m                             Traceback (most recent call last)",
      "\u001b[0;32m/var/folders/vw/wnpxkfbd0td_tthn1f9l3bj00000gp/T/ipykernel_98217/878892627.py\u001b[0m in \u001b[0;36m<module>\u001b[0;34m\u001b[0m\n\u001b[1;32m      1\u001b[0m \u001b[0;31m# Q6.2 answer disply\u001b[0m\u001b[0;34m\u001b[0m\u001b[0;34m\u001b[0m\u001b[0m\n\u001b[1;32m      2\u001b[0m \u001b[0mQ6_answer2\u001b[0m\u001b[0;34m=\u001b[0m\u001b[0;34m'select * from Stock '\u001b[0m\u001b[0;34m\u001b[0m\u001b[0;34m\u001b[0m\u001b[0m\n\u001b[0;32m----> 3\u001b[0;31m \u001b[0mmyproject\u001b[0m\u001b[0;34m.\u001b[0m\u001b[0mexecute\u001b[0m\u001b[0;34m(\u001b[0m\u001b[0mQ6_answer2\u001b[0m\u001b[0;34m)\u001b[0m\u001b[0;34m\u001b[0m\u001b[0;34m\u001b[0m\u001b[0m\n\u001b[0m\u001b[1;32m      4\u001b[0m \u001b[0mResult\u001b[0m\u001b[0;34m=\u001b[0m\u001b[0mmyproject\u001b[0m\u001b[0;34m.\u001b[0m\u001b[0mfetchall\u001b[0m\u001b[0;34m(\u001b[0m\u001b[0;34m)\u001b[0m\u001b[0;34m\u001b[0m\u001b[0;34m\u001b[0m\u001b[0m\n\u001b[1;32m      5\u001b[0m \u001b[0;32mfor\u001b[0m \u001b[0mx\u001b[0m \u001b[0;32min\u001b[0m \u001b[0mResult\u001b[0m\u001b[0;34m:\u001b[0m\u001b[0;34m\u001b[0m\u001b[0;34m\u001b[0m\u001b[0m\n",
      "\u001b[0;32m~/opt/anaconda3/lib/python3.9/site-packages/mysql/connector/cursor.py\u001b[0m in \u001b[0;36mexecute\u001b[0;34m(self, operation, params, multi)\u001b[0m\n\u001b[1;32m    578\u001b[0m             \u001b[0;32mraise\u001b[0m \u001b[0mProgrammingError\u001b[0m\u001b[0;34m(\u001b[0m\u001b[0;34m\"Cursor is not connected\"\u001b[0m\u001b[0;34m)\u001b[0m \u001b[0;32mfrom\u001b[0m \u001b[0merr\u001b[0m\u001b[0;34m\u001b[0m\u001b[0;34m\u001b[0m\u001b[0m\n\u001b[1;32m    579\u001b[0m \u001b[0;34m\u001b[0m\u001b[0m\n\u001b[0;32m--> 580\u001b[0;31m         \u001b[0mself\u001b[0m\u001b[0;34m.\u001b[0m\u001b[0m_connection\u001b[0m\u001b[0;34m.\u001b[0m\u001b[0mhandle_unread_result\u001b[0m\u001b[0;34m(\u001b[0m\u001b[0;34m)\u001b[0m\u001b[0;34m\u001b[0m\u001b[0;34m\u001b[0m\u001b[0m\n\u001b[0m\u001b[1;32m    581\u001b[0m \u001b[0;34m\u001b[0m\u001b[0m\n\u001b[1;32m    582\u001b[0m         \u001b[0mself\u001b[0m\u001b[0;34m.\u001b[0m\u001b[0m_reset_result\u001b[0m\u001b[0;34m(\u001b[0m\u001b[0;34m)\u001b[0m\u001b[0;34m\u001b[0m\u001b[0;34m\u001b[0m\u001b[0m\n",
      "\u001b[0;32m~/opt/anaconda3/lib/python3.9/site-packages/mysql/connector/connection.py\u001b[0m in \u001b[0;36mhandle_unread_result\u001b[0;34m(self)\u001b[0m\n\u001b[1;32m   1715\u001b[0m             \u001b[0mself\u001b[0m\u001b[0;34m.\u001b[0m\u001b[0mconsume_results\u001b[0m\u001b[0;34m(\u001b[0m\u001b[0;34m)\u001b[0m\u001b[0;34m\u001b[0m\u001b[0;34m\u001b[0m\u001b[0m\n\u001b[1;32m   1716\u001b[0m         \u001b[0;32melif\u001b[0m \u001b[0mself\u001b[0m\u001b[0;34m.\u001b[0m\u001b[0munread_result\u001b[0m\u001b[0;34m:\u001b[0m\u001b[0;34m\u001b[0m\u001b[0;34m\u001b[0m\u001b[0m\n\u001b[0;32m-> 1717\u001b[0;31m             \u001b[0;32mraise\u001b[0m \u001b[0mInternalError\u001b[0m\u001b[0;34m(\u001b[0m\u001b[0;34m\"Unread result found\"\u001b[0m\u001b[0;34m)\u001b[0m\u001b[0;34m\u001b[0m\u001b[0;34m\u001b[0m\u001b[0m\n\u001b[0m",
      "\u001b[0;31mInternalError\u001b[0m: Unread result found"
     ]
    }
   ],
   "source": [
    "# Q6.2 answer disply\n",
    "Q6_answer2='select * from Stock '\n",
    "myproject.execute(Q6_answer2)\n",
    "Result=myproject.fetchall()\n",
    "for x in Result:\n",
    "    print (x)"
   ]
  },
  {
   "cell_type": "code",
   "execution_count": 40,
   "id": "f43a3e6a",
   "metadata": {},
   "outputs": [],
   "source": [
    "# we realised that the data type of the price attribute in Product table needed to be updated from Int to float\n",
    "myproject.execute(\"Alter Table Product Modify column price float(10, 2)\")\n",
    "myproject.execute(\"ALTER TABLE Product ADD CHECK (price >= 0)\")\n",
    "myproject.execute(\" Update Product SET price= 2.50 where pid='p1'\")\n",
    "\n",
    "project.commit()\n"
   ]
  },
  {
   "cell_type": "code",
   "execution_count": 41,
   "id": "ba769dc4",
   "metadata": {},
   "outputs": [
    {
     "name": "stdout",
     "output_type": "stream",
     "text": [
      "('p1', 'tape', 2.5)\n",
      "('p2', 'tv', 250.0)\n",
      "('p3', 'vcr', 80.0)\n"
     ]
    }
   ],
   "source": [
    "after_correction = 'select * from Product'\n",
    "myproject.execute(after_correction)\n",
    "Result=myproject.fetchall()\n",
    "for x in Result:\n",
    "    print (x)"
   ]
  },
  {
   "cell_type": "code",
   "execution_count": 42,
   "id": "11a1dcb8",
   "metadata": {},
   "outputs": [
    {
     "name": "stdout",
     "output_type": "stream",
     "text": [
      "MYSQL connection is now closed\n"
     ]
    }
   ],
   "source": [
    "try:\n",
    "    myproject = project.cursor()\n",
    "    # QUERY\n",
    "\n",
    "except (Exception, MYSQL.DatabaseError) as err:\n",
    "    print(err)\n",
    "    print(\"Transactions could not be completed so database will be rolled back before start of transactions\")\n",
    "    project.rollback()\n",
    "finally:\n",
    "    if project:\n",
    "        project.commit()\n",
    "        myproject.close\n",
    "        project.close\n",
    "        print(\"MYSQL connection is now closed\")"
   ]
  },
  {
   "cell_type": "code",
   "execution_count": null,
   "id": "737915ab",
   "metadata": {},
   "outputs": [],
   "source": []
  }
 ],
 "metadata": {
  "kernelspec": {
   "display_name": "Python 3 (ipykernel)",
   "language": "python",
   "name": "python3"
  },
  "language_info": {
   "codemirror_mode": {
    "name": "ipython",
    "version": 3
   },
   "file_extension": ".py",
   "mimetype": "text/x-python",
   "name": "python",
   "nbconvert_exporter": "python",
   "pygments_lexer": "ipython3",
   "version": "3.9.13"
  }
 },
 "nbformat": 4,
 "nbformat_minor": 5
}
